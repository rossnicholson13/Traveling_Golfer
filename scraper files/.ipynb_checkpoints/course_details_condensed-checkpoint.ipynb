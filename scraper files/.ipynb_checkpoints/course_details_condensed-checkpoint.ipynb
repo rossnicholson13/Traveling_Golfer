{
 "cells": [
  {
   "cell_type": "code",
   "execution_count": 3,
   "metadata": {},
   "outputs": [],
   "source": [
    "%matplotlib inline\n",
    "import matplotlib.pyplot as plt\n",
    "import pandas as pd\n",
    "import numpy as np\n",
    "from bs4 import BeautifulSoup\n",
    "from selenium import webdriver\n",
    "import time\n",
    "from selenium.webdriver.common.keys import Keys\n",
    "from selenium.webdriver.support.ui import Select\n",
    "from selenium.webdriver.common.by import By\n",
    "from selenium.webdriver.support.ui import WebDriverWait\n",
    "from selenium.webdriver.support import expected_conditions as EC\n",
    "import requests\n",
    "import csv\n",
    "import lxml.html as lh"
   ]
  },
  {
   "cell_type": "code",
   "execution_count": null,
   "metadata": {},
   "outputs": [],
   "source": [
    "driver = webdriver.Chrome()"
   ]
  },
  {
   "cell_type": "code",
   "execution_count": null,
   "metadata": {},
   "outputs": [],
   "source": [
    "filename = \"course_urls.csv\"\n",
    "  \n",
    "# initializing the titles and rows list \n",
    "rows = [] \n",
    "  \n",
    "# reading csv file \n",
    "with open(filename, 'r') as csvfile: \n",
    "    # creating a csv reader object \n",
    "    csvreader = csv.reader(csvfile) \n",
    "      \n",
    "    # extracting field names through first row \n",
    "    fields = csvreader.__next__()\n",
    "  \n",
    "    # extracting each data row one by one \n",
    "    for row in csvreader: \n",
    "        rows.append(row)"
   ]
  },
  {
   "cell_type": "code",
   "execution_count": null,
   "metadata": {},
   "outputs": [],
   "source": [
    "course_details = pd.DataFrame()\n",
    "\n",
    "for i in range(1451,4000):\n",
    "    driver.get(rows[i][0])\n",
    "    time.sleep(1)\n",
    "    try:\n",
    "        course_name = driver.find_element_by_class_name(\"CoursePage-pageLeadHeading\").text\n",
    "    except:\n",
    "        course_name = \"N/A\"\n",
    "    try:\n",
    "        address = driver.find_element_by_class_name(\"CoursePageSidebar-addressFirst\").text\n",
    "    except:\n",
    "        address = \"N/A\"\n",
    "    try:\n",
    "        access = driver.find_element_by_xpath(\"/html/body/div[2]/div/main/div[1]/div[3]/div/div[1]/div[1]/div/div[2]/div/span[2]\").text\n",
    "    except:\n",
    "        access = \"N/A\"\n",
    "    try:\n",
    "        year_built = driver.find_element_by_xpath(\"/html/body/div[2]/div/main/div[1]/div[3]/div/div[2]/div/div[1]/div[1]/div/span[2]\").text\n",
    "    except:\n",
    "        year_built = \"N/A\"\n",
    "    try: \n",
    "        rating = driver.find_element_by_class_name(\"RatingStarItem-stars-value\").text\n",
    "    except:\n",
    "        rating = \"N/A\"\n",
    "    try:\n",
    "        num_reviews = driver.find_element_by_class_name(\"RatingRecommendation-totalReview\").text\n",
    "    except:\n",
    "        num_reviews = \"N/A\"\n",
    "    try:\n",
    "        pct_recommend = driver.find_element_by_class_name(\"RatingRecommendation-percentValue\").text\n",
    "    except:\n",
    "        pct_recommend = \"N/A\"\n",
    "    temp_dict = {'Course Name':course_name,\n",
    "                 'Address':address,\n",
    "                'Access':access,\n",
    "                'Year Built':year_built,\n",
    "                'Rating':rating,\n",
    "                'Number of Reviews':num_reviews,\n",
    "                'Pct Recommend':pct_recommend}\n",
    "    temp_df = pd.DataFrame(temp_dict,[i])\n",
    "    course_details = course_details.append(temp_df)\n",
    "    print(i)"
   ]
  }
 ],
 "metadata": {
  "kernelspec": {
   "display_name": "Python 3",
   "language": "python",
   "name": "python3"
  },
  "language_info": {
   "codemirror_mode": {
    "name": "ipython",
    "version": 3
   },
   "file_extension": ".py",
   "mimetype": "text/x-python",
   "name": "python",
   "nbconvert_exporter": "python",
   "pygments_lexer": "ipython3",
   "version": "3.7.3"
  }
 },
 "nbformat": 4,
 "nbformat_minor": 4
}
