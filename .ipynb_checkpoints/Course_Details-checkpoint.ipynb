{
 "cells": [
  {
   "cell_type": "code",
   "execution_count": 55,
   "metadata": {},
   "outputs": [],
   "source": [
    "%matplotlib inline\n",
    "import matplotlib.pyplot as plt\n",
    "import pandas as pd\n",
    "import numpy as np\n",
    "from bs4 import BeautifulSoup\n",
    "from selenium import webdriver\n",
    "import time\n",
    "from selenium.webdriver.common.keys import Keys\n",
    "from selenium.webdriver.support.ui import Select\n",
    "from selenium.webdriver.common.by import By\n",
    "from selenium.webdriver.support.ui import WebDriverWait\n",
    "from selenium.webdriver.support import expected_conditions as EC\n",
    "import requests\n",
    "import csv\n",
    "import lxml.html as lh"
   ]
  },
  {
   "cell_type": "markdown",
   "metadata": {},
   "source": [
    "## Automated Course ID Retrieval"
   ]
  },
  {
   "cell_type": "code",
   "execution_count": 109,
   "metadata": {},
   "outputs": [],
   "source": [
    "driver = webdriver.Chrome()"
   ]
  },
  {
   "cell_type": "code",
   "execution_count": 107,
   "metadata": {},
   "outputs": [],
   "source": [
    "filename = \"states_urls.csv\"\n",
    "  \n",
    "# initializing the titles and rows list \n",
    "rows = [] \n",
    "  \n",
    "# reading csv file \n",
    "with open(filename, 'r') as csvfile: \n",
    "    # creating a csv reader object \n",
    "    csvreader = csv.reader(csvfile) \n",
    "      \n",
    "    # extracting field names through first row \n",
    "    fields = csvreader.__next__()\n",
    "  \n",
    "    # extracting each data row one by one \n",
    "    for row in csvreader: \n",
    "        rows.append(row)"
   ]
  },
  {
   "cell_type": "code",
   "execution_count": null,
   "metadata": {},
   "outputs": [],
   "source": [
    "city_url_list = []\n",
    "\n",
    "for url in rows:\n",
    "    driver.get(url[0])\n",
    "    time.sleep(2)\n",
    "    \n",
    "    course_list = driver.find_element_by_class_name(\"LocationTagPage-sublocations-content\").get_attribute('outerHTML')\n",
    "    soup = BeautifulSoup(course_list,'html.parser')\n",
    "    cities = soup.findAll(lambda tag: tag.name == 'div' and tag['class'] == ['LocationTagPromo-description'])\n",
    "    course_list = []\n",
    "    \n",
    "    for city in cities:\n",
    "        if '0 courses' in city.text:\n",
    "            course_list.append(False)\n",
    "        else:\n",
    "            course_list.append(True)\n",
    "        \n",
    "    counter = 0\n",
    "    \n",
    "    for link in soup.findAll('a'):\n",
    "        course_link = link.get('href')\n",
    "        if(course_list[counter]==True):\n",
    "            city_url_list.append(course_link)\n",
    "        counter+= 1\n",
    "    \n",
    "    print(len(city_url_list))\n",
    "    \n",
    "    time.sleep(2)"
   ]
  },
  {
   "cell_type": "code",
   "execution_count": 118,
   "metadata": {},
   "outputs": [],
   "source": [
    "city_df = pd.DataFrame(city_url_list)\n",
    "city_df.to_csv('cities_url.csv',index=False)"
   ]
  },
  {
   "cell_type": "code",
   "execution_count": 114,
   "metadata": {},
   "outputs": [],
   "source": [
    "with open('cities_url.csv', 'w', newline='') as myfile:\n",
    "     wr = csv.writer(myfile, quoting=csv.QUOTE_ALL)\n",
    "     wr.writerow(city_url_list)"
   ]
  },
  {
   "cell_type": "code",
   "execution_count": 110,
   "metadata": {},
   "outputs": [],
   "source": [
    "driver.get(\"https://www.golfadvisor.com/course-directory/2-usa/\")"
   ]
  },
  {
   "cell_type": "code",
   "execution_count": null,
   "metadata": {},
   "outputs": [],
   "source": [
    "course_list = driver.find_element_by_xpath(\"/html/body/div[2]/main/div[1]/div[5]/div/div/ul\").get_attribute('outerHTML')\n",
    "soup = BeautifulSoup(course_list,'html.parser')\n",
    "for link in soup.findAll('a'):\n",
    "    course_link = link.get('href')\n",
    "    print(course_link)"
   ]
  },
  {
   "cell_type": "code",
   "execution_count": 46,
   "metadata": {},
   "outputs": [
    {
     "data": {
      "text/plain": [
       "''"
      ]
     },
     "execution_count": 46,
     "metadata": {},
     "output_type": "execute_result"
    }
   ],
   "source": [
    "course_name = driver.find_element_by_class_name(\"CoursePage-pageLeadHeading\").text\n",
    "address = driver.find_element_by_class_name(\"CoursePageSidebar-addressFirst\").text\n",
    "access = driver.find_element_by_xpath(\"/html/body/div[2]/div/main/div[1]/div[3]/div/div[1]/div[1]/div/div[2]/div/span[2]\").text\n",
    "year_built = driver.find_element_by_xpath(\"/html/body/div[2]/div/main/div[1]/div[3]/div/div[2]/div/div[1]/div[1]/div/span[2]\").text\n",
    "rating = driver.find_element_by_class_name(\"RatingStarItem-stars-value\").text\n",
    "num_reviews = driver.find_element_by_xpath(\"/html/body/div[2]/div/main/div[1]/div[2]/div/div[2]/div[1]/div/div/div[1]/div[3]/div/span[2]\").text\n",
    "pct_recommend = driver.find_element_by_class_name(\"RatingRecommendation-percentValue\").text\n",
    "architects = driver.find_element_by_xpath(\"/html/body/div[2]/div/main/div[1]/div[3]/div/div[2]/div/div[2]\").text\n"
   ]
  },
  {
   "cell_type": "code",
   "execution_count": null,
   "metadata": {},
   "outputs": [],
   "source": [
    "all_courses = pd.DataFrame()\n",
    "\n",
    "for i in range(2,53):\n",
    "    print(i)\n",
    "    driver.find_element_by_xpath(f\"/html/body/div[2]/div/form/div[4]/ol/li[4]/select/option[{i}]\").click()\n",
    "    time.sleep(5)\n",
    "    driver.find_element_by_id(\"myButton\").click()\n",
    "    time.sleep(10)\n",
    "    tbl = driver.find_element_by_xpath(\"/html/body/div[2]/div/form/div[10]/div[1]/table\").get_attribute('outerHTML')\n",
    "    course_details = pd.read_html(tbl)[0]\n",
    "    course_id_list = []\n",
    "    time.sleep(2)\n",
    "    soup = BeautifulSoup(tbl,'html.parser')\n",
    "    for link in soup.findAll('a'):\n",
    "        course_id = link.get('href')\n",
    "        course_id = course_id.split(\"=\",1)[1]\n",
    "        course_id_list.append(course_id)\n",
    "    course_id_df = pd.DataFrame(course_id_list)\n",
    "    course_id_df = course_id_df.rename(columns={0: \"Course ID\"})\n",
    "    course_details['Course ID'] = course_id_df\n",
    "    all_courses = all_courses.append(course_details).reset_index(drop=True)\n",
    "\n",
    "all_courses.head()"
   ]
  },
  {
   "cell_type": "code",
   "execution_count": null,
   "metadata": {},
   "outputs": [],
   "source": [
    "all_courses.to_csv('course_id_directory.csv',index=False)"
   ]
  },
  {
   "cell_type": "markdown",
   "metadata": {},
   "source": [
    "## Retrieve Course IDs one at a time"
   ]
  },
  {
   "cell_type": "code",
   "execution_count": null,
   "metadata": {},
   "outputs": [],
   "source": [
    "driver.get(\"https://ncrdb.usga.org/NCRDB/\")"
   ]
  },
  {
   "cell_type": "code",
   "execution_count": null,
   "metadata": {},
   "outputs": [],
   "source": [
    "print(i)\n",
    "driver.find_element_by_xpath(f\"/html/body/div[2]/div/form/div[4]/ol/li[4]/select/option[{i}]\").click()"
   ]
  },
  {
   "cell_type": "code",
   "execution_count": null,
   "metadata": {},
   "outputs": [],
   "source": [
    "driver.find_element_by_xpath(\"/html/body/div[2]/div/form/div[5]/input\").click()"
   ]
  },
  {
   "cell_type": "markdown",
   "metadata": {},
   "source": [
    "### Wait for page to load..."
   ]
  },
  {
   "cell_type": "code",
   "execution_count": null,
   "metadata": {},
   "outputs": [],
   "source": [
    "tbl = driver.find_element_by_xpath(\"/html/body/div[2]/div/form/div[10]/div[1]/table\").get_attribute('outerHTML')"
   ]
  },
  {
   "cell_type": "code",
   "execution_count": null,
   "metadata": {},
   "outputs": [],
   "source": [
    "course_details = pd.read_html(tbl)[0]\n",
    "course_id_list = []"
   ]
  },
  {
   "cell_type": "code",
   "execution_count": null,
   "metadata": {},
   "outputs": [],
   "source": [
    "soup = BeautifulSoup(tbl,'html.parser')\n",
    "for link in soup.findAll('a'):\n",
    "    course_id = link.get('href')\n",
    "    course_id = course_id.split(\"=\",1)[1]\n",
    "    course_id_list.append(course_id)\n",
    "course_id_df = pd.DataFrame(course_id_list)\n",
    "course_id_df = course_id_df.rename(columns={0: \"Course ID\"})\n",
    "course_details['Course ID'] = course_id_df\n",
    "print(course_details.tail())\n",
    "all_courses = all_courses.append(course_details).reset_index(drop=True)\n",
    "print(len(all_courses['Club Name']))\n",
    "i=i+1"
   ]
  },
  {
   "cell_type": "code",
   "execution_count": null,
   "metadata": {},
   "outputs": [],
   "source": [
    "all_courses.to_csv('course_id_directory.csv',index=False)"
   ]
  }
 ],
 "metadata": {
  "kernelspec": {
   "display_name": "Python 3",
   "language": "python",
   "name": "python3"
  },
  "language_info": {
   "codemirror_mode": {
    "name": "ipython",
    "version": 3
   },
   "file_extension": ".py",
   "mimetype": "text/x-python",
   "name": "python",
   "nbconvert_exporter": "python",
   "pygments_lexer": "ipython3",
   "version": "3.7.3"
  }
 },
 "nbformat": 4,
 "nbformat_minor": 4
}
