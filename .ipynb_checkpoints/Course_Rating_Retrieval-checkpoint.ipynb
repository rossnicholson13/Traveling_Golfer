{
 "cells": [
  {
   "cell_type": "code",
   "execution_count": 1,
   "metadata": {},
   "outputs": [],
   "source": [
    "%matplotlib inline\n",
    "import matplotlib.pyplot as plt\n",
    "import pandas as pd\n",
    "import numpy as np\n",
    "from bs4 import BeautifulSoup\n",
    "from selenium import webdriver\n",
    "import time\n",
    "import csv\n",
    "from selenium.webdriver.common.keys import Keys\n",
    "from selenium.webdriver.support.ui import Select\n",
    "from selenium.webdriver.common.by import By\n",
    "from selenium.webdriver.support.ui import WebDriverWait\n",
    "from selenium.webdriver.support import expected_conditions as EC"
   ]
  },
  {
   "cell_type": "code",
   "execution_count": 2,
   "metadata": {},
   "outputs": [],
   "source": [
    "driver = webdriver.Chrome()\n",
    "driver.get(\"https://ncrdb.usga.org/NCRDB/\")"
   ]
  },
  {
   "cell_type": "code",
   "execution_count": 4,
   "metadata": {
    "jupyter": {
     "source_hidden": true
    }
   },
   "outputs": [
    {
     "name": "stdout",
     "output_type": "stream",
     "text": [
      "Total no. of rows: 16423\n"
     ]
    }
   ],
   "source": [
    "filename = \"course_id_directory.csv\"\n",
    "  \n",
    "# initializing the titles and rows list \n",
    "rows = [] \n",
    "  \n",
    "# reading csv file \n",
    "with open(filename, 'r') as csvfile: \n",
    "    # creating a csv reader object \n",
    "    csvreader = csv.reader(csvfile) \n",
    "      \n",
    "    # extracting field names through first row \n",
    "    # fields = csvreader.next() \n",
    "  \n",
    "    # extracting each data row one by one \n",
    "    for row in csvreader: \n",
    "        rows.append(row) \n",
    "  \n",
    "    # get total number of rows \n",
    "    print(\"Total no. of rows: %d\"%(csvreader.line_num)) "
   ]
  },
  {
   "cell_type": "code",
   "execution_count": 13,
   "metadata": {},
   "outputs": [
    {
     "name": "stdout",
     "output_type": "stream",
     "text": [
      "1\n",
      "No Course Ratings found\n",
      "2\n",
      "No Course Ratings found\n",
      "3\n",
      "4\n",
      "5\n",
      "6\n",
      "7\n",
      "No Course Ratings found\n",
      "8\n",
      "9\n",
      "No Course Ratings found\n"
     ]
    },
    {
     "data": {
      "text/html": [
       "<div>\n",
       "<style scoped>\n",
       "    .dataframe tbody tr th:only-of-type {\n",
       "        vertical-align: middle;\n",
       "    }\n",
       "\n",
       "    .dataframe tbody tr th {\n",
       "        vertical-align: top;\n",
       "    }\n",
       "\n",
       "    .dataframe thead th {\n",
       "        text-align: right;\n",
       "    }\n",
       "</style>\n",
       "<table border=\"1\" class=\"dataframe\">\n",
       "  <thead>\n",
       "    <tr style=\"text-align: right;\">\n",
       "      <th></th>\n",
       "      <th>Course Name</th>\n",
       "      <th>Course ID</th>\n",
       "      <th>City</th>\n",
       "      <th>State</th>\n",
       "      <th>Tee Name</th>\n",
       "      <th>Par</th>\n",
       "      <th>Course Rating (18)</th>\n",
       "      <th>Slope Rating (18)</th>\n",
       "      <th>Front (9)</th>\n",
       "      <th>Back (9)</th>\n",
       "      <th>Bogey Rating (18)</th>\n",
       "      <th>Gender</th>\n",
       "    </tr>\n",
       "  </thead>\n",
       "  <tbody>\n",
       "    <tr>\n",
       "      <th>0</th>\n",
       "      <td>'16 MST - '16 MST</td>\n",
       "      <td>24176</td>\n",
       "      <td>Birmingham</td>\n",
       "      <td>AL</td>\n",
       "      <td>NR</td>\n",
       "      <td>NR</td>\n",
       "      <td>NR</td>\n",
       "      <td>NR</td>\n",
       "      <td>NR</td>\n",
       "      <td>NR</td>\n",
       "      <td>NR</td>\n",
       "      <td>NR</td>\n",
       "    </tr>\n",
       "    <tr>\n",
       "      <th>1</th>\n",
       "      <td>'18 U.S. Women's Open - '18 U.S. Women's Open</td>\n",
       "      <td>26738</td>\n",
       "      <td>Shoal Creek</td>\n",
       "      <td>AL</td>\n",
       "      <td>NR</td>\n",
       "      <td>NR</td>\n",
       "      <td>NR</td>\n",
       "      <td>NR</td>\n",
       "      <td>NR</td>\n",
       "      <td>NR</td>\n",
       "      <td>NR</td>\n",
       "      <td>NR</td>\n",
       "    </tr>\n",
       "    <tr>\n",
       "      <th>2</th>\n",
       "      <td>Alpine Bay Golf Club - Alpine Bay Golf Club</td>\n",
       "      <td>11318</td>\n",
       "      <td>Alpine</td>\n",
       "      <td>AL</td>\n",
       "      <td>Blue</td>\n",
       "      <td>71</td>\n",
       "      <td>71.8</td>\n",
       "      <td>131</td>\n",
       "      <td>36.1  /  131</td>\n",
       "      <td>35.7  /  130</td>\n",
       "      <td>96.1</td>\n",
       "      <td>M</td>\n",
       "    </tr>\n",
       "    <tr>\n",
       "      <th>3</th>\n",
       "      <td>Alpine Bay Golf Club - Alpine Bay Golf Club</td>\n",
       "      <td>11318</td>\n",
       "      <td>Alpine</td>\n",
       "      <td>AL</td>\n",
       "      <td>White</td>\n",
       "      <td>71</td>\n",
       "      <td>69.4</td>\n",
       "      <td>128</td>\n",
       "      <td>34.8  /  132</td>\n",
       "      <td>34.6  /  123</td>\n",
       "      <td>93.1</td>\n",
       "      <td>M</td>\n",
       "    </tr>\n",
       "    <tr>\n",
       "      <th>4</th>\n",
       "      <td>Alpine Bay Golf Club - Alpine Bay Golf Club</td>\n",
       "      <td>11318</td>\n",
       "      <td>Alpine</td>\n",
       "      <td>AL</td>\n",
       "      <td>Gold</td>\n",
       "      <td>71</td>\n",
       "      <td>67.9</td>\n",
       "      <td>123</td>\n",
       "      <td>34.2  /  129</td>\n",
       "      <td>33.7  /  117</td>\n",
       "      <td>90.8</td>\n",
       "      <td>M</td>\n",
       "    </tr>\n",
       "  </tbody>\n",
       "</table>\n",
       "</div>"
      ],
      "text/plain": [
       "                                     Course Name Course ID         City State  \\\n",
       "0                              '16 MST - '16 MST     24176   Birmingham    AL   \n",
       "1  '18 U.S. Women's Open - '18 U.S. Women's Open     26738  Shoal Creek    AL   \n",
       "2    Alpine Bay Golf Club - Alpine Bay Golf Club     11318       Alpine    AL   \n",
       "3    Alpine Bay Golf Club - Alpine Bay Golf Club     11318       Alpine    AL   \n",
       "4    Alpine Bay Golf Club - Alpine Bay Golf Club     11318       Alpine    AL   \n",
       "\n",
       "  Tee Name Par Course Rating (18) Slope Rating (18)     Front (9)  \\\n",
       "0       NR  NR                 NR                NR            NR   \n",
       "1       NR  NR                 NR                NR            NR   \n",
       "2     Blue  71               71.8               131  36.1  /  131   \n",
       "3    White  71               69.4               128  34.8  /  132   \n",
       "4     Gold  71               67.9               123  34.2  /  129   \n",
       "\n",
       "       Back (9) Bogey Rating (18) Gender  \n",
       "0            NR                NR     NR  \n",
       "1            NR                NR     NR  \n",
       "2  35.7  /  130              96.1      M  \n",
       "3  34.6  /  123              93.1      M  \n",
       "4  33.7  /  117              90.8      M  "
      ]
     },
     "execution_count": 13,
     "metadata": {},
     "output_type": "execute_result"
    }
   ],
   "source": [
    "all_courses = pd.DataFrame()\n",
    "\n",
    "# for i in (1,len(rows)):\n",
    "for i in range(1,10):\n",
    "    print(i)\n",
    "    course_id = rows[i][4]\n",
    "    driver.get(f\"http://ncrdb.usga.org/courseTeeInfo.aspx?CourseID={course_id}\")\n",
    "    time.sleep(1)\n",
    "    course_name = driver.find_element_by_xpath('//*[@id=\"gvCourseTees\"]/tbody/tr[2]/td[1]').text\n",
    "    city = driver.find_element_by_xpath('//*[@id=\"gvCourseTees\"]/tbody/tr[2]/td[2]').text\n",
    "    state = driver.find_element_by_xpath('//*[@id=\"gvCourseTees\"]/tbody/tr[2]/td[3]').text\n",
    "\n",
    "    try:\n",
    "        course_tees = driver.find_element_by_id(\"gvTee\").get_attribute('outerHTML')\n",
    "        df  = pd.read_html(course_tees)\n",
    "    except:\n",
    "        print(\"No Course Ratings found\")\n",
    "        df = list()\n",
    "        df.append(pd.DataFrame({'Tee Name':['NR'],'Par':['NR'],'Course Rating (18)':['NR'],'Slope Rating (18)':['NR'],'Front (9)':['NR'],'Back (9)':['NR'],'Bogey Rating (18)':['NR'],'Gender':['NR']}))\n",
    "    \n",
    "    df[0]['Course Name'] = course_name\n",
    "    df[0]['Course ID'] = course_id\n",
    "    df[0]['City'] = city\n",
    "    df[0]['State']= state\n",
    "    all_courses = all_courses.append(df[0])\n",
    "\n",
    "all_courses = all_courses[['Course Name','Course ID','City','State','Tee Name','Par','Course Rating (18)','Slope Rating (18)','Front (9)','Back (9)','Bogey Rating (18)','Gender']].reset_index(drop=True)\n",
    "all_courses.head()"
   ]
  },
  {
   "cell_type": "code",
   "execution_count": null,
   "metadata": {
    "jupyter": {
     "source_hidden": true
    }
   },
   "outputs": [],
   "source": [
    "all_courses = pd.DataFrame()\n",
    "\n",
    "for i in range(1884):\n",
    "    course_id = s.pop()\n",
    "    driver.get(f\"http://ncrdb.usga.org/courseTeeInfo.aspx?CourseID={course_id}\")\n",
    "    time.sleep(1)\n",
    "    course_name = driver.find_element_by_xpath('//*[@id=\"gvCourseTees\"]/tbody/tr[2]/td[1]').text\n",
    "    city = driver.find_element_by_xpath('//*[@id=\"gvCourseTees\"]/tbody/tr[2]/td[2]').text\n",
    "    state = driver.find_element_by_xpath('//*[@id=\"gvCourseTees\"]/tbody/tr[2]/td[3]').text\n",
    "    print(course_name)\n",
    "    print (i+1)\n",
    "    \n",
    "    try:\n",
    "        course_tees = driver.find_element_by_id(\"gvTee\").get_attribute('outerHTML')\n",
    "        df  = pd.read_html(course_tees)\n",
    "    except:\n",
    "        print(\"No Course Ratings found\")\n",
    "        df = list()\n",
    "        df.append(pd.DataFrame({'Tee Name':['NR'],'Par':['NR'],'Course Rating (18)':['NR'],'Slope Rating (18)':['NR'],'Front (9)':['NR'],'Back (9)':['NR'],'Bogey Rating (18)':['NR'],'Gender':['NR']}))\n",
    "\n",
    "    df[0]['Course Name'] = course_name\n",
    "    df[0]['Course ID'] = course_id\n",
    "    df[0]['City'] = city\n",
    "    df[0]['State']= state\n",
    "    all_courses = all_courses.append(df[0])\n",
    "\n",
    "all_courses = all_courses[['Course Name','Course ID','City','State','Tee Name','Par','Course Rating (18)','Slope Rating (18)','Front (9)','Back (9)','Bogey Rating (18)','Gender']].reset_index(drop=True)\n",
    "all_courses.head()"
   ]
  },
  {
   "cell_type": "code",
   "execution_count": null,
   "metadata": {},
   "outputs": [],
   "source": [
    "all_courses.to_csv('temp_course_rating_db.csv',index=False)"
   ]
  },
  {
   "cell_type": "code",
   "execution_count": 6,
   "metadata": {},
   "outputs": [
    {
     "data": {
      "text/plain": [
       "'24176'"
      ]
     },
     "execution_count": 6,
     "metadata": {},
     "output_type": "execute_result"
    }
   ],
   "source": [
    "rows[1][4]"
   ]
  },
  {
   "cell_type": "code",
   "execution_count": null,
   "metadata": {},
   "outputs": [],
   "source": []
  }
 ],
 "metadata": {
  "kernelspec": {
   "display_name": "Python 3",
   "language": "python",
   "name": "python3"
  },
  "language_info": {
   "codemirror_mode": {
    "name": "ipython",
    "version": 3
   },
   "file_extension": ".py",
   "mimetype": "text/x-python",
   "name": "python",
   "nbconvert_exporter": "python",
   "pygments_lexer": "ipython3",
   "version": "3.7.3"
  }
 },
 "nbformat": 4,
 "nbformat_minor": 4
}
