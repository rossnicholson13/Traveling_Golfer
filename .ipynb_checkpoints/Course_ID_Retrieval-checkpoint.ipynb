{
 "cells": [
  {
   "cell_type": "code",
   "execution_count": 28,
   "metadata": {},
   "outputs": [],
   "source": [
    "%matplotlib inline\n",
    "import matplotlib.pyplot as plt\n",
    "import pandas as pd\n",
    "import numpy as np\n",
    "from bs4 import BeautifulSoup\n",
    "from selenium import webdriver\n",
    "import time\n",
    "from selenium.webdriver.common.keys import Keys\n",
    "from selenium.webdriver.support.ui import Select\n",
    "from selenium.webdriver.common.by import By\n",
    "from selenium.webdriver.support.ui import WebDriverWait\n",
    "from selenium.webdriver.support import expected_conditions as EC\n",
    "import requests\n",
    "import lxml.html as lh"
   ]
  },
  {
   "cell_type": "markdown",
   "metadata": {},
   "source": [
    "## Automated Course ID Retrieval"
   ]
  },
  {
   "cell_type": "code",
   "execution_count": 42,
   "metadata": {},
   "outputs": [],
   "source": [
    "driver = webdriver.Chrome()\n",
    "driver.get(\"https://ncrdb.usga.org/NCRDB/\")"
   ]
  },
  {
   "cell_type": "code",
   "execution_count": null,
   "metadata": {},
   "outputs": [],
   "source": [
    "all_courses = pd.DataFrame()\n",
    "\n",
    "for i in range(2,53):\n",
    "    print(i)\n",
    "    driver.find_element_by_xpath(f\"/html/body/div[2]/div/form/div[4]/ol/li[4]/select/option[{i}]\").click()\n",
    "    time.sleep(5)\n",
    "    driver.find_element_by_id(\"myButton\").click()\n",
    "    time.sleep(10)\n",
    "    tbl = driver.find_element_by_xpath(\"/html/body/div[2]/div/form/div[10]/div[1]/table\").get_attribute('outerHTML')\n",
    "    course_details = pd.read_html(tbl)[0]\n",
    "    course_id_list = []\n",
    "    time.sleep(2)\n",
    "    soup = BeautifulSoup(tbl,'html.parser')\n",
    "    for link in soup.findAll('a'):\n",
    "        course_id = link.get('href')\n",
    "        course_id = course_id.split(\"=\",1)[1]\n",
    "        course_id_list.append(course_id)\n",
    "    course_id_df = pd.DataFrame(course_id_list)\n",
    "    course_id_df = course_id_df.rename(columns={0: \"Course ID\"})\n",
    "    course_details['Course ID'] = course_id_df\n",
    "    all_courses = all_courses.append(course_details).reset_index(drop=True)\n",
    "\n",
    "all_courses.head()"
   ]
  },
  {
   "cell_type": "code",
   "execution_count": 20,
   "metadata": {},
   "outputs": [],
   "source": [
    "all_courses.to_csv('course_id_directory.csv',index=False)"
   ]
  },
  {
   "cell_type": "markdown",
   "metadata": {},
   "source": [
    "## Retrieve Course IDs one at a time"
   ]
  },
  {
   "cell_type": "code",
   "execution_count": 243,
   "metadata": {},
   "outputs": [],
   "source": [
    "driver.get(\"https://ncrdb.usga.org/NCRDB/\")"
   ]
  },
  {
   "cell_type": "code",
   "execution_count": 315,
   "metadata": {},
   "outputs": [
    {
     "name": "stdout",
     "output_type": "stream",
     "text": [
      "53\n"
     ]
    }
   ],
   "source": [
    "print(i)\n",
    "driver.find_element_by_xpath(f\"/html/body/div[2]/div/form/div[4]/ol/li[4]/select/option[{i}]\").click()"
   ]
  },
  {
   "cell_type": "code",
   "execution_count": 316,
   "metadata": {},
   "outputs": [],
   "source": [
    "driver.find_element_by_xpath(\"/html/body/div[2]/div/form/div[5]/input\").click()"
   ]
  },
  {
   "cell_type": "markdown",
   "metadata": {},
   "source": [
    "### Wait for page to load..."
   ]
  },
  {
   "cell_type": "code",
   "execution_count": 311,
   "metadata": {},
   "outputs": [],
   "source": [
    "tbl = driver.find_element_by_xpath(\"/html/body/div[2]/div/form/div[10]/div[1]/table\").get_attribute('outerHTML')"
   ]
  },
  {
   "cell_type": "code",
   "execution_count": 312,
   "metadata": {},
   "outputs": [],
   "source": [
    "course_details = pd.read_html(tbl)[0]\n",
    "course_id_list = []"
   ]
  },
  {
   "cell_type": "code",
   "execution_count": null,
   "metadata": {},
   "outputs": [],
   "source": [
    "soup = BeautifulSoup(tbl,'html.parser')\n",
    "for link in soup.findAll('a'):\n",
    "    course_id = link.get('href')\n",
    "    course_id = course_id.split(\"=\",1)[1]\n",
    "    course_id_list.append(course_id)\n",
    "course_id_df = pd.DataFrame(course_id_list)\n",
    "course_id_df = course_id_df.rename(columns={0: \"Course ID\"})\n",
    "course_details['Course ID'] = course_id_df\n",
    "print(course_details.tail())\n",
    "all_courses = all_courses.append(course_details).reset_index(drop=True)\n",
    "print(len(all_courses['Club Name']))\n",
    "i=i+1"
   ]
  },
  {
   "cell_type": "code",
   "execution_count": 314,
   "metadata": {},
   "outputs": [],
   "source": [
    "all_courses.to_csv('course_id_directory.csv',index=False)"
   ]
  }
 ],
 "metadata": {
  "kernelspec": {
   "display_name": "Python 3",
   "language": "python",
   "name": "python3"
  },
  "language_info": {
   "codemirror_mode": {
    "name": "ipython",
    "version": 3
   },
   "file_extension": ".py",
   "mimetype": "text/x-python",
   "name": "python",
   "nbconvert_exporter": "python",
   "pygments_lexer": "ipython3",
   "version": "3.7.3"
  }
 },
 "nbformat": 4,
 "nbformat_minor": 4
}
